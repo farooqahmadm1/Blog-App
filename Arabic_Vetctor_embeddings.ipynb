{
  "nbformat": 4,
  "nbformat_minor": 0,
  "metadata": {
    "colab": {
      "provenance": [],
      "authorship_tag": "ABX9TyNqMRwUWaEIRxBYkdDvkf8d",
      "include_colab_link": true
    },
    "kernelspec": {
      "name": "python3",
      "display_name": "Python 3"
    },
    "language_info": {
      "name": "python"
    }
  },
  "cells": [
    {
      "cell_type": "markdown",
      "metadata": {
        "id": "view-in-github",
        "colab_type": "text"
      },
      "source": [
        "<a href=\"https://colab.research.google.com/github/farooqahmadm1/Blog-App/blob/master/Arabic_Vetctor_embeddings.ipynb\" target=\"_parent\"><img src=\"https://colab.research.google.com/assets/colab-badge.svg\" alt=\"Open In Colab\"/></a>"
      ]
    },
    {
      "cell_type": "code",
      "execution_count": null,
      "metadata": {
        "colab": {
          "base_uri": "https://localhost:8080/"
        },
        "id": "l9UTFBSCf7-N",
        "outputId": "25d20e95-3a1a-4e6f-be54-52e118743f08"
      },
      "outputs": [
        {
          "output_type": "stream",
          "name": "stdout",
          "text": [
            "Collecting model2vec\n",
            "  Downloading model2vec-0.6.0-py3-none-any.whl.metadata (16 kB)\n",
            "Requirement already satisfied: jinja2 in /usr/local/lib/python3.11/dist-packages (from model2vec) (3.1.6)\n",
            "Requirement already satisfied: joblib in /usr/local/lib/python3.11/dist-packages (from model2vec) (1.5.1)\n",
            "Requirement already satisfied: numpy in /usr/local/lib/python3.11/dist-packages (from model2vec) (2.0.2)\n",
            "Requirement already satisfied: rich in /usr/local/lib/python3.11/dist-packages (from model2vec) (13.9.4)\n",
            "Requirement already satisfied: safetensors in /usr/local/lib/python3.11/dist-packages (from model2vec) (0.5.3)\n",
            "Requirement already satisfied: setuptools in /usr/local/lib/python3.11/dist-packages (from model2vec) (75.2.0)\n",
            "Requirement already satisfied: tokenizers>=0.20 in /usr/local/lib/python3.11/dist-packages (from model2vec) (0.21.2)\n",
            "Requirement already satisfied: tqdm in /usr/local/lib/python3.11/dist-packages (from model2vec) (4.67.1)\n",
            "Requirement already satisfied: huggingface-hub<1.0,>=0.16.4 in /usr/local/lib/python3.11/dist-packages (from tokenizers>=0.20->model2vec) (0.33.2)\n",
            "Requirement already satisfied: MarkupSafe>=2.0 in /usr/local/lib/python3.11/dist-packages (from jinja2->model2vec) (3.0.2)\n",
            "Requirement already satisfied: markdown-it-py>=2.2.0 in /usr/local/lib/python3.11/dist-packages (from rich->model2vec) (3.0.0)\n",
            "Requirement already satisfied: pygments<3.0.0,>=2.13.0 in /usr/local/lib/python3.11/dist-packages (from rich->model2vec) (2.19.2)\n",
            "Requirement already satisfied: filelock in /usr/local/lib/python3.11/dist-packages (from huggingface-hub<1.0,>=0.16.4->tokenizers>=0.20->model2vec) (3.18.0)\n",
            "Requirement already satisfied: fsspec>=2023.5.0 in /usr/local/lib/python3.11/dist-packages (from huggingface-hub<1.0,>=0.16.4->tokenizers>=0.20->model2vec) (2025.3.2)\n",
            "Requirement already satisfied: packaging>=20.9 in /usr/local/lib/python3.11/dist-packages (from huggingface-hub<1.0,>=0.16.4->tokenizers>=0.20->model2vec) (24.2)\n",
            "Requirement already satisfied: pyyaml>=5.1 in /usr/local/lib/python3.11/dist-packages (from huggingface-hub<1.0,>=0.16.4->tokenizers>=0.20->model2vec) (6.0.2)\n",
            "Requirement already satisfied: requests in /usr/local/lib/python3.11/dist-packages (from huggingface-hub<1.0,>=0.16.4->tokenizers>=0.20->model2vec) (2.32.3)\n",
            "Requirement already satisfied: typing-extensions>=3.7.4.3 in /usr/local/lib/python3.11/dist-packages (from huggingface-hub<1.0,>=0.16.4->tokenizers>=0.20->model2vec) (4.14.1)\n",
            "Requirement already satisfied: hf-xet<2.0.0,>=1.1.2 in /usr/local/lib/python3.11/dist-packages (from huggingface-hub<1.0,>=0.16.4->tokenizers>=0.20->model2vec) (1.1.5)\n",
            "Requirement already satisfied: mdurl~=0.1 in /usr/local/lib/python3.11/dist-packages (from markdown-it-py>=2.2.0->rich->model2vec) (0.1.2)\n",
            "Requirement already satisfied: charset-normalizer<4,>=2 in /usr/local/lib/python3.11/dist-packages (from requests->huggingface-hub<1.0,>=0.16.4->tokenizers>=0.20->model2vec) (3.4.2)\n",
            "Requirement already satisfied: idna<4,>=2.5 in /usr/local/lib/python3.11/dist-packages (from requests->huggingface-hub<1.0,>=0.16.4->tokenizers>=0.20->model2vec) (3.10)\n",
            "Requirement already satisfied: urllib3<3,>=1.21.1 in /usr/local/lib/python3.11/dist-packages (from requests->huggingface-hub<1.0,>=0.16.4->tokenizers>=0.20->model2vec) (2.4.0)\n",
            "Requirement already satisfied: certifi>=2017.4.17 in /usr/local/lib/python3.11/dist-packages (from requests->huggingface-hub<1.0,>=0.16.4->tokenizers>=0.20->model2vec) (2025.7.9)\n",
            "Downloading model2vec-0.6.0-py3-none-any.whl (49 kB)\n",
            "\u001b[2K   \u001b[90m━━━━━━━━━━━━━━━━━━━━━━━━━━━━━━━━━━━━━━━━\u001b[0m \u001b[32m49.4/49.4 kB\u001b[0m \u001b[31m3.6 MB/s\u001b[0m eta \u001b[36m0:00:00\u001b[0m\n",
            "\u001b[?25hInstalling collected packages: model2vec\n",
            "Successfully installed model2vec-0.6.0\n"
          ]
        }
      ],
      "source": [
        "pip install model2vec\n"
      ]
    },
    {
      "cell_type": "code",
      "source": [
        "from model2vec import StaticModel\n",
        "\n",
        "# Load a pretrained Model2Vec model\n",
        "model = StaticModel.from_pretrained(\"NAMAA-Space/bojji\")\n",
        "\n",
        "# Compute text embeddings\n",
        "embeddings = model.encode([\"Example sentence\"])\n",
        "\n",
        "# Print the embeddings\n",
        "print(embeddings)"
      ],
      "metadata": {
        "colab": {
          "base_uri": "https://localhost:8080/"
        },
        "id": "E5wyOEOqg3Cn",
        "outputId": "f426601a-7ab2-4160-88fc-1d76eddae3f3"
      },
      "execution_count": null,
      "outputs": [
        {
          "output_type": "stream",
          "name": "stdout",
          "text": [
            "[[ 0.11750624 -0.06473397  0.08452012 -0.05235897  0.0289236   0.05915727\n",
            "  -0.10276932  0.0160055   0.02296429 -0.01031744 -0.01345851  0.02041995\n",
            "  -0.09050025  0.04696745 -0.0200088  -0.02473227 -0.10657751 -0.03032834\n",
            "  -0.07149992  0.08056816 -0.02214005 -0.11247548 -0.09983599  0.0291059\n",
            "   0.10923219 -0.01624019  0.09863114  0.0147933  -0.01815998 -0.00633459\n",
            "   0.04947035  0.1133751   0.11580329  0.08499763  0.10180441  0.01158213\n",
            "   0.11773024  0.0778043  -0.08101117 -0.02950575 -0.00164353  0.05661853\n",
            "  -0.02570349  0.02812874 -0.0719436   0.08674476 -0.0249145  -0.04119047\n",
            "   0.01439576 -0.09389541  0.07489172 -0.00871953  0.04667929  0.02885731\n",
            "  -0.01471443  0.00079238 -0.03630043 -0.00829529  0.05727486  0.0186471\n",
            "   0.00087851 -0.03703463 -0.14423296  0.12046028  0.04616252  0.01908979\n",
            "   0.01621365  0.00555249  0.07018337  0.02802255  0.09944414  0.02389087\n",
            "  -0.01489675 -0.01156001  0.08644738 -0.05154257  0.12564768 -0.03733946\n",
            "   0.084823   -0.02059296 -0.00354343 -0.01834787 -0.05233702  0.05841794\n",
            "   0.13861701 -0.04722083  0.03419226  0.04903787 -0.07221057  0.01374329\n",
            "   0.12037249 -0.02491392 -0.01590415 -0.05255125  0.12806906  0.13814643\n",
            "   0.10871529 -0.06946561  0.00758997 -0.04042882  0.01713291  0.0949503\n",
            "  -0.03811313 -0.00897333 -0.10432768  0.10492906  0.10703767 -0.04915273\n",
            "  -0.03757867  0.02058174 -0.08086895  0.03617374  0.05164158  0.04097368\n",
            "   0.06009012 -0.12475027  0.09493224 -0.12726043  0.0527505  -0.06523775\n",
            "  -0.04897071 -0.03333805 -0.03780455  0.02293251  0.06487061 -0.05497172\n",
            "   0.04400322 -0.05907459  0.03011427 -0.00165087 -0.01744198 -0.03061103\n",
            "   0.11064466 -0.02519906 -0.05972347 -0.08978631 -0.0142982   0.04686216\n",
            "  -0.03285002 -0.14572075 -0.08241377 -0.05132381  0.03506163 -0.06921075\n",
            "   0.06985643 -0.08546267 -0.0844081  -0.08649041  0.05075108  0.04594999\n",
            "   0.05648988 -0.00808954  0.01566675  0.09889513 -0.05163185  0.03965892\n",
            "  -0.04843388 -0.02717029 -0.03609895 -0.02526987  0.00464647  0.03593981\n",
            "   0.10722011 -0.0206832  -0.07526048 -0.00137827  0.0200239  -0.06638987\n",
            "   0.17069133 -0.01829407  0.07709923 -0.04099004  0.02103611 -0.02584228\n",
            "   0.04922635 -0.00235932 -0.03246262 -0.04869288 -0.03632037  0.00993393\n",
            "  -0.09085732  0.06764966 -0.05325377  0.00535656 -0.04678066  0.06638505\n",
            "  -0.06392883  0.07774025  0.06950596  0.00894489  0.10363015 -0.05510332\n",
            "  -0.05466204  0.02252042  0.06836127 -0.02872176  0.06704018  0.03994521\n",
            "  -0.0842101  -0.03017946  0.06759263  0.00486487 -0.0228875  -0.01014798\n",
            "   0.01784007 -0.0435648   0.0969471  -0.0095539  -0.00614741  0.1183132\n",
            "  -0.05916426 -0.01098529  0.05943643  0.07366226 -0.09564201 -0.01433365\n",
            "  -0.1199654  -0.02627087  0.09877729 -0.00920127  0.02994472  0.00649118\n",
            "   0.02113377 -0.02504255 -0.03059897  0.05135079  0.00979696  0.0108783\n",
            "   0.00396093  0.00290896 -0.06222271  0.00444081  0.09049677 -0.13184126\n",
            "  -0.07075905  0.05781306  0.07920343  0.02809142  0.03936656  0.00738175\n",
            "   0.01103746  0.05195816  0.02721006  0.03403045  0.00448375  0.07707191\n",
            "   0.05143192  0.06404266  0.00079767  0.02025716  0.02807845  0.00344211\n",
            "  -0.03131183 -0.03030664  0.03772312 -0.10619328]]\n"
          ]
        }
      ]
    },
    {
      "cell_type": "code",
      "source": [
        "# prompt: I want to convert this model to tflite model?\n",
        "\n",
        "!pip install --upgrade tensorflow\n",
        "!pip install model2vec\n"
      ],
      "metadata": {
        "colab": {
          "base_uri": "https://localhost:8080/",
          "height": 1000
        },
        "id": "-GjCh5BEhe0w",
        "outputId": "5be5cd01-1b22-489c-e5d0-9444112f1da0"
      },
      "execution_count": null,
      "outputs": [
        {
          "output_type": "stream",
          "name": "stdout",
          "text": [
            "Requirement already satisfied: tensorflow in /usr/local/lib/python3.11/dist-packages (2.18.0)\n",
            "Collecting tensorflow\n",
            "  Downloading tensorflow-2.19.0-cp311-cp311-manylinux_2_17_x86_64.manylinux2014_x86_64.whl.metadata (4.1 kB)\n",
            "Requirement already satisfied: absl-py>=1.0.0 in /usr/local/lib/python3.11/dist-packages (from tensorflow) (1.4.0)\n",
            "Requirement already satisfied: astunparse>=1.6.0 in /usr/local/lib/python3.11/dist-packages (from tensorflow) (1.6.3)\n",
            "Requirement already satisfied: flatbuffers>=24.3.25 in /usr/local/lib/python3.11/dist-packages (from tensorflow) (25.2.10)\n",
            "Requirement already satisfied: gast!=0.5.0,!=0.5.1,!=0.5.2,>=0.2.1 in /usr/local/lib/python3.11/dist-packages (from tensorflow) (0.6.0)\n",
            "Requirement already satisfied: google-pasta>=0.1.1 in /usr/local/lib/python3.11/dist-packages (from tensorflow) (0.2.0)\n",
            "Requirement already satisfied: libclang>=13.0.0 in /usr/local/lib/python3.11/dist-packages (from tensorflow) (18.1.1)\n",
            "Requirement already satisfied: opt-einsum>=2.3.2 in /usr/local/lib/python3.11/dist-packages (from tensorflow) (3.4.0)\n",
            "Requirement already satisfied: packaging in /usr/local/lib/python3.11/dist-packages (from tensorflow) (24.2)\n",
            "Requirement already satisfied: protobuf!=4.21.0,!=4.21.1,!=4.21.2,!=4.21.3,!=4.21.4,!=4.21.5,<6.0.0dev,>=3.20.3 in /usr/local/lib/python3.11/dist-packages (from tensorflow) (5.29.5)\n",
            "Requirement already satisfied: requests<3,>=2.21.0 in /usr/local/lib/python3.11/dist-packages (from tensorflow) (2.32.3)\n",
            "Requirement already satisfied: setuptools in /usr/local/lib/python3.11/dist-packages (from tensorflow) (75.2.0)\n",
            "Requirement already satisfied: six>=1.12.0 in /usr/local/lib/python3.11/dist-packages (from tensorflow) (1.17.0)\n",
            "Requirement already satisfied: termcolor>=1.1.0 in /usr/local/lib/python3.11/dist-packages (from tensorflow) (3.1.0)\n",
            "Requirement already satisfied: typing-extensions>=3.6.6 in /usr/local/lib/python3.11/dist-packages (from tensorflow) (4.14.1)\n",
            "Requirement already satisfied: wrapt>=1.11.0 in /usr/local/lib/python3.11/dist-packages (from tensorflow) (1.17.2)\n",
            "Requirement already satisfied: grpcio<2.0,>=1.24.3 in /usr/local/lib/python3.11/dist-packages (from tensorflow) (1.73.1)\n",
            "Collecting tensorboard~=2.19.0 (from tensorflow)\n",
            "  Downloading tensorboard-2.19.0-py3-none-any.whl.metadata (1.8 kB)\n",
            "Requirement already satisfied: keras>=3.5.0 in /usr/local/lib/python3.11/dist-packages (from tensorflow) (3.8.0)\n",
            "Requirement already satisfied: numpy<2.2.0,>=1.26.0 in /usr/local/lib/python3.11/dist-packages (from tensorflow) (2.0.2)\n",
            "Requirement already satisfied: h5py>=3.11.0 in /usr/local/lib/python3.11/dist-packages (from tensorflow) (3.14.0)\n",
            "Collecting ml-dtypes<1.0.0,>=0.5.1 (from tensorflow)\n",
            "  Downloading ml_dtypes-0.5.1-cp311-cp311-manylinux_2_17_x86_64.manylinux2014_x86_64.whl.metadata (21 kB)\n",
            "Requirement already satisfied: tensorflow-io-gcs-filesystem>=0.23.1 in /usr/local/lib/python3.11/dist-packages (from tensorflow) (0.37.1)\n",
            "Requirement already satisfied: wheel<1.0,>=0.23.0 in /usr/local/lib/python3.11/dist-packages (from astunparse>=1.6.0->tensorflow) (0.45.1)\n",
            "Requirement already satisfied: rich in /usr/local/lib/python3.11/dist-packages (from keras>=3.5.0->tensorflow) (13.9.4)\n",
            "Requirement already satisfied: namex in /usr/local/lib/python3.11/dist-packages (from keras>=3.5.0->tensorflow) (0.1.0)\n",
            "Requirement already satisfied: optree in /usr/local/lib/python3.11/dist-packages (from keras>=3.5.0->tensorflow) (0.16.0)\n",
            "Requirement already satisfied: charset-normalizer<4,>=2 in /usr/local/lib/python3.11/dist-packages (from requests<3,>=2.21.0->tensorflow) (3.4.2)\n",
            "Requirement already satisfied: idna<4,>=2.5 in /usr/local/lib/python3.11/dist-packages (from requests<3,>=2.21.0->tensorflow) (3.10)\n",
            "Requirement already satisfied: urllib3<3,>=1.21.1 in /usr/local/lib/python3.11/dist-packages (from requests<3,>=2.21.0->tensorflow) (2.4.0)\n",
            "Requirement already satisfied: certifi>=2017.4.17 in /usr/local/lib/python3.11/dist-packages (from requests<3,>=2.21.0->tensorflow) (2025.7.9)\n",
            "Requirement already satisfied: markdown>=2.6.8 in /usr/local/lib/python3.11/dist-packages (from tensorboard~=2.19.0->tensorflow) (3.8.2)\n",
            "Requirement already satisfied: tensorboard-data-server<0.8.0,>=0.7.0 in /usr/local/lib/python3.11/dist-packages (from tensorboard~=2.19.0->tensorflow) (0.7.2)\n",
            "Requirement already satisfied: werkzeug>=1.0.1 in /usr/local/lib/python3.11/dist-packages (from tensorboard~=2.19.0->tensorflow) (3.1.3)\n",
            "Requirement already satisfied: MarkupSafe>=2.1.1 in /usr/local/lib/python3.11/dist-packages (from werkzeug>=1.0.1->tensorboard~=2.19.0->tensorflow) (3.0.2)\n",
            "Requirement already satisfied: markdown-it-py>=2.2.0 in /usr/local/lib/python3.11/dist-packages (from rich->keras>=3.5.0->tensorflow) (3.0.0)\n",
            "Requirement already satisfied: pygments<3.0.0,>=2.13.0 in /usr/local/lib/python3.11/dist-packages (from rich->keras>=3.5.0->tensorflow) (2.19.2)\n",
            "Requirement already satisfied: mdurl~=0.1 in /usr/local/lib/python3.11/dist-packages (from markdown-it-py>=2.2.0->rich->keras>=3.5.0->tensorflow) (0.1.2)\n",
            "Downloading tensorflow-2.19.0-cp311-cp311-manylinux_2_17_x86_64.manylinux2014_x86_64.whl (644.9 MB)\n",
            "\u001b[2K   \u001b[90m━━━━━━━━━━━━━━━━━━━━━━━━━━━━━━━━━━━━━━━\u001b[0m \u001b[32m644.9/644.9 MB\u001b[0m \u001b[31m812.9 kB/s\u001b[0m eta \u001b[36m0:00:00\u001b[0m\n",
            "\u001b[?25hDownloading ml_dtypes-0.5.1-cp311-cp311-manylinux_2_17_x86_64.manylinux2014_x86_64.whl (4.7 MB)\n",
            "\u001b[2K   \u001b[90m━━━━━━━━━━━━━━━━━━━━━━━━━━━━━━━━━━━━━━━━\u001b[0m \u001b[32m4.7/4.7 MB\u001b[0m \u001b[31m104.5 MB/s\u001b[0m eta \u001b[36m0:00:00\u001b[0m\n",
            "\u001b[?25hDownloading tensorboard-2.19.0-py3-none-any.whl (5.5 MB)\n",
            "\u001b[2K   \u001b[90m━━━━━━━━━━━━━━━━━━━━━━━━━━━━━━━━━━━━━━━━\u001b[0m \u001b[32m5.5/5.5 MB\u001b[0m \u001b[31m99.6 MB/s\u001b[0m eta \u001b[36m0:00:00\u001b[0m\n",
            "\u001b[?25hInstalling collected packages: ml-dtypes, tensorboard, tensorflow\n",
            "  Attempting uninstall: ml-dtypes\n",
            "    Found existing installation: ml-dtypes 0.4.1\n",
            "    Uninstalling ml-dtypes-0.4.1:\n",
            "      Successfully uninstalled ml-dtypes-0.4.1\n",
            "  Attempting uninstall: tensorboard\n",
            "    Found existing installation: tensorboard 2.18.0\n",
            "    Uninstalling tensorboard-2.18.0:\n",
            "      Successfully uninstalled tensorboard-2.18.0\n",
            "  Attempting uninstall: tensorflow\n",
            "    Found existing installation: tensorflow 2.18.0\n",
            "    Uninstalling tensorflow-2.18.0:\n",
            "      Successfully uninstalled tensorflow-2.18.0\n",
            "\u001b[31mERROR: pip's dependency resolver does not currently take into account all the packages that are installed. This behaviour is the source of the following dependency conflicts.\n",
            "tensorflow-decision-forests 1.11.0 requires tensorflow==2.18.0, but you have tensorflow 2.19.0 which is incompatible.\n",
            "tf-keras 2.18.0 requires tensorflow<2.19,>=2.18, but you have tensorflow 2.19.0 which is incompatible.\n",
            "tensorflow-text 2.18.1 requires tensorflow<2.19,>=2.18.0, but you have tensorflow 2.19.0 which is incompatible.\u001b[0m\u001b[31m\n",
            "\u001b[0mSuccessfully installed ml-dtypes-0.5.1 tensorboard-2.19.0 tensorflow-2.19.0\n"
          ]
        },
        {
          "output_type": "display_data",
          "data": {
            "application/vnd.colab-display-data+json": {
              "pip_warning": {
                "packages": [
                  "tensorflow"
                ]
              },
              "id": "a2fcdaa5b10a417b9c3b6303e8b2baf6"
            }
          },
          "metadata": {}
        },
        {
          "output_type": "stream",
          "name": "stdout",
          "text": [
            "Requirement already satisfied: model2vec in /usr/local/lib/python3.11/dist-packages (0.6.0)\n",
            "Requirement already satisfied: jinja2 in /usr/local/lib/python3.11/dist-packages (from model2vec) (3.1.6)\n",
            "Requirement already satisfied: joblib in /usr/local/lib/python3.11/dist-packages (from model2vec) (1.5.1)\n",
            "Requirement already satisfied: numpy in /usr/local/lib/python3.11/dist-packages (from model2vec) (2.0.2)\n",
            "Requirement already satisfied: rich in /usr/local/lib/python3.11/dist-packages (from model2vec) (13.9.4)\n",
            "Requirement already satisfied: safetensors in /usr/local/lib/python3.11/dist-packages (from model2vec) (0.5.3)\n",
            "Requirement already satisfied: setuptools in /usr/local/lib/python3.11/dist-packages (from model2vec) (75.2.0)\n",
            "Requirement already satisfied: tokenizers>=0.20 in /usr/local/lib/python3.11/dist-packages (from model2vec) (0.21.2)\n",
            "Requirement already satisfied: tqdm in /usr/local/lib/python3.11/dist-packages (from model2vec) (4.67.1)\n",
            "Requirement already satisfied: huggingface-hub<1.0,>=0.16.4 in /usr/local/lib/python3.11/dist-packages (from tokenizers>=0.20->model2vec) (0.33.2)\n",
            "Requirement already satisfied: MarkupSafe>=2.0 in /usr/local/lib/python3.11/dist-packages (from jinja2->model2vec) (3.0.2)\n",
            "Requirement already satisfied: markdown-it-py>=2.2.0 in /usr/local/lib/python3.11/dist-packages (from rich->model2vec) (3.0.0)\n",
            "Requirement already satisfied: pygments<3.0.0,>=2.13.0 in /usr/local/lib/python3.11/dist-packages (from rich->model2vec) (2.19.2)\n",
            "Requirement already satisfied: filelock in /usr/local/lib/python3.11/dist-packages (from huggingface-hub<1.0,>=0.16.4->tokenizers>=0.20->model2vec) (3.18.0)\n",
            "Requirement already satisfied: fsspec>=2023.5.0 in /usr/local/lib/python3.11/dist-packages (from huggingface-hub<1.0,>=0.16.4->tokenizers>=0.20->model2vec) (2025.3.2)\n",
            "Requirement already satisfied: packaging>=20.9 in /usr/local/lib/python3.11/dist-packages (from huggingface-hub<1.0,>=0.16.4->tokenizers>=0.20->model2vec) (24.2)\n",
            "Requirement already satisfied: pyyaml>=5.1 in /usr/local/lib/python3.11/dist-packages (from huggingface-hub<1.0,>=0.16.4->tokenizers>=0.20->model2vec) (6.0.2)\n",
            "Requirement already satisfied: requests in /usr/local/lib/python3.11/dist-packages (from huggingface-hub<1.0,>=0.16.4->tokenizers>=0.20->model2vec) (2.32.3)\n",
            "Requirement already satisfied: typing-extensions>=3.7.4.3 in /usr/local/lib/python3.11/dist-packages (from huggingface-hub<1.0,>=0.16.4->tokenizers>=0.20->model2vec) (4.14.1)\n",
            "Requirement already satisfied: hf-xet<2.0.0,>=1.1.2 in /usr/local/lib/python3.11/dist-packages (from huggingface-hub<1.0,>=0.16.4->tokenizers>=0.20->model2vec) (1.1.5)\n",
            "Requirement already satisfied: mdurl~=0.1 in /usr/local/lib/python3.11/dist-packages (from markdown-it-py>=2.2.0->rich->model2vec) (0.1.2)\n",
            "Requirement already satisfied: charset-normalizer<4,>=2 in /usr/local/lib/python3.11/dist-packages (from requests->huggingface-hub<1.0,>=0.16.4->tokenizers>=0.20->model2vec) (3.4.2)\n",
            "Requirement already satisfied: idna<4,>=2.5 in /usr/local/lib/python3.11/dist-packages (from requests->huggingface-hub<1.0,>=0.16.4->tokenizers>=0.20->model2vec) (3.10)\n",
            "Requirement already satisfied: urllib3<3,>=1.21.1 in /usr/local/lib/python3.11/dist-packages (from requests->huggingface-hub<1.0,>=0.16.4->tokenizers>=0.20->model2vec) (2.4.0)\n",
            "Requirement already satisfied: certifi>=2017.4.17 in /usr/local/lib/python3.11/dist-packages (from requests->huggingface-hub<1.0,>=0.16.4->tokenizers>=0.20->model2vec) (2025.7.9)\n"
          ]
        }
      ]
    },
    {
      "cell_type": "code",
      "source": [
        "# Need to remove previous model2vec installation that came with an older tensorflow version\n",
        "!pip uninstall -y model2vec\n"
      ],
      "metadata": {
        "colab": {
          "base_uri": "https://localhost:8080/"
        },
        "id": "Wed5nsWghzSG",
        "outputId": "89233abb-3f7d-4560-b1b3-8daeff09096e"
      },
      "execution_count": null,
      "outputs": [
        {
          "output_type": "stream",
          "name": "stdout",
          "text": [
            "Found existing installation: model2vec 0.6.0\n",
            "Uninstalling model2vec-0.6.0:\n",
            "  Successfully uninstalled model2vec-0.6.0\n"
          ]
        }
      ]
    },
    {
      "cell_type": "code",
      "source": [
        "# prompt: i want to convert the model now to tensor flow lite so i can use it on my mobile device.. android or ios\n",
        "\n",
        "import tensorflow as tf\n",
        "\n",
        "# Assume 'model' is your trained TensorFlow model (not the Model2Vec model)\n",
        "# You need to load your actual TensorFlow model that you want to convert.\n",
        "# For example, if you saved a Keras model:\n",
        "# model = tf.keras.models.load_model('your_saved_model.h5')\n",
        "\n",
        "# If 'model' refers to the Model2Vec model loaded previously,\n",
        "# converting that specific object directly to a TFLite model might not be straightforward\n",
        "# as Model2Vec is a different library. You'd typically convert a standard TensorFlow model.\n",
        "# Let's assume you have a standard TensorFlow Keras model named 'your_tf_model'\n",
        "# Replace this with loading your actual trained TensorFlow model.\n",
        "# For demonstration, let's create a simple dummy model:\n",
        "your_tf_model = tf.keras.Sequential([\n",
        "    tf.keras.layers.Dense(10, input_shape=(5,), activation='relu'),\n",
        "    tf.keras.layers.Dense(1, activation='sigmoid')\n",
        "])\n",
        "your_tf_model.compile(optimizer='adam', loss='binary_crossentropy') # Compile is needed for conversion\n",
        "\n",
        "# Convert the model to TFLite\n",
        "converter = tf.lite.TFLiteConverter.from_keras_model(your_tf_model)\n",
        "tflite_model = converter.convert()\n",
        "\n",
        "# Save the TFLite model\n",
        "with open('model.tflite', 'wb') as f:\n",
        "  f.write(tflite_model)\n",
        "\n",
        "print(\"Model converted to TFLite and saved as model.tflite\")"
      ],
      "metadata": {
        "colab": {
          "base_uri": "https://localhost:8080/"
        },
        "id": "9xF1-_8nhzqL",
        "outputId": "219e087a-da14-4707-b95b-4d4740ac37b9"
      },
      "execution_count": null,
      "outputs": [
        {
          "output_type": "stream",
          "name": "stderr",
          "text": [
            "/usr/local/lib/python3.11/dist-packages/keras/src/layers/core/dense.py:87: UserWarning: Do not pass an `input_shape`/`input_dim` argument to a layer. When using Sequential models, prefer using an `Input(shape)` object as the first layer in the model instead.\n",
            "  super().__init__(activity_regularizer=activity_regularizer, **kwargs)\n"
          ]
        },
        {
          "output_type": "stream",
          "name": "stdout",
          "text": [
            "Saved artifact at '/tmp/tmpqhkiaot4'. The following endpoints are available:\n",
            "\n",
            "* Endpoint 'serve'\n",
            "  args_0 (POSITIONAL_ONLY): TensorSpec(shape=(None, 5), dtype=tf.float32, name='keras_tensor')\n",
            "Output Type:\n",
            "  TensorSpec(shape=(None, 1), dtype=tf.float32, name=None)\n",
            "Captures:\n",
            "  134113789993104: TensorSpec(shape=(), dtype=tf.resource, name=None)\n",
            "  134113789996368: TensorSpec(shape=(), dtype=tf.resource, name=None)\n",
            "  134113789997328: TensorSpec(shape=(), dtype=tf.resource, name=None)\n",
            "  134113789993872: TensorSpec(shape=(), dtype=tf.resource, name=None)\n",
            "Model converted to TFLite and saved as model.tflite\n"
          ]
        }
      ]
    },
    {
      "cell_type": "code",
      "source": [
        "# prompt: i have write now.. quran.sqlite file in sample data.. i want to read this file each table\n",
        "\n",
        "!pip install pysqlite3\n",
        "\n",
        "import sqlite3\n",
        "import pandas as pd\n",
        "\n",
        "# Define the path to your database file\n",
        "db_path = '/content/sample_data/quran.sqlite' # Adjust the path if needed\n",
        "\n",
        "try:\n",
        "    # Connect to the SQLite database\n",
        "    conn = sqlite3.connect(db_path)\n",
        "    cursor = conn.cursor()\n",
        "\n",
        "    # Get the list of all tables\n",
        "    cursor.execute(\"SELECT name FROM sqlite_master WHERE type='table';\")\n",
        "    tables = cursor.fetchall()\n",
        "\n",
        "    print(f\"Tables found in {db_path}:\")\n",
        "\n",
        "    # Iterate through each table and read its contents\n",
        "    for table_name_tuple in tables:\n",
        "        table_name = table_name_tuple[0]\n",
        "        print(f\"\\nReading table: {table_name}\")\n",
        "\n",
        "        # Read the table into a pandas DataFrame\n",
        "        df = pd.read_sql_query(f\"SELECT * from {table_name}\", conn)\n",
        "\n",
        "        # Display the first few rows of the DataFrame\n",
        "        print(df.head())\n",
        "\n",
        "    # Close the connection\n",
        "    conn.close()\n",
        "\n",
        "except sqlite3.Error as e:\n",
        "    print(f\"Database error: {e}\")\n",
        "except Exception as e:\n",
        "    print(f\"An error occurred: {e}\")\n"
      ],
      "metadata": {
        "colab": {
          "base_uri": "https://localhost:8080/"
        },
        "id": "NXOb9PT_l7K-",
        "outputId": "dc36ba26-6dfa-46c3-b654-786f8282e74e"
      },
      "execution_count": 2,
      "outputs": [
        {
          "output_type": "stream",
          "name": "stdout",
          "text": [
            "Collecting pysqlite3\n",
            "  Downloading pysqlite3-0.5.4.tar.gz (40 kB)\n",
            "\u001b[?25l     \u001b[90m━━━━━━━━━━━━━━━━━━━━━━━━━━━━━━━━━━━━━━━━\u001b[0m \u001b[32m0.0/40.7 kB\u001b[0m \u001b[31m?\u001b[0m eta \u001b[36m-:--:--\u001b[0m\r\u001b[2K     \u001b[90m━━━━━━━━━━━━━━━━━━━━━━━━━━━━━━━━━━━━━━━━\u001b[0m \u001b[32m40.7/40.7 kB\u001b[0m \u001b[31m3.7 MB/s\u001b[0m eta \u001b[36m0:00:00\u001b[0m\n",
            "\u001b[?25h  Preparing metadata (setup.py) ... \u001b[?25l\u001b[?25hdone\n",
            "Building wheels for collected packages: pysqlite3\n",
            "  Building wheel for pysqlite3 (setup.py) ... \u001b[?25l\u001b[?25hdone\n",
            "  Created wheel for pysqlite3: filename=pysqlite3-0.5.4-cp311-cp311-linux_x86_64.whl size=159238 sha256=164253dda8724744dc10848b35e82ca4daf33b2c6033806503d397afa5046603\n",
            "  Stored in directory: /root/.cache/pip/wheels/83/05/4e/8fb9d7378ff72e4fd02b69df7a6052c34d33cea2a0231ca232\n",
            "Successfully built pysqlite3\n",
            "Installing collected packages: pysqlite3\n",
            "Successfully installed pysqlite3-0.5.4\n",
            "Tables found in /content/sample_data/quran.sqlite:\n",
            "\n",
            "Reading table: android_metadata\n",
            "  locale\n",
            "0  en_US\n",
            "\n",
            "Reading table: quran_en_transliteration\n",
            "   sura  aya                                  text\n",
            "0     1    1    Bismi Allahi alrrahmani alrraheemi\n",
            "1     1    2    Alhamdu lillahi rabbi alAAalameena\n",
            "2     1    3                 Alrrahmani alrraheemi\n",
            "3     1    4                 Maliki yawmi alddeeni\n",
            "4     1    5  Iyyaka naAAbudu waiyyaka nastaAAeenu\n",
            "\n",
            "Reading table: quran_simple_clean\n",
            "   sura  aya                    text\n",
            "0     1    1  بسم الله الرحمن الرحيم\n",
            "1     1    2   الحمد لله رب العالمين\n",
            "2     1    3           الرحمن الرحيم\n",
            "3     1    4          مالك يوم الدين\n",
            "4     1    5  إياك نعبد وإياك نستعين\n",
            "\n",
            "Reading table: quran_uthmani\n",
            "   sura  aya                                      text   md5\n",
            "0     1    1    بِسْمِ ٱللَّهِ ٱلرَّحْمَٰنِ ٱلرَّحِيمِ  None\n",
            "1     1    2     ٱلْحَمْدُ لِلَّهِ رَبِّ ٱلْعَٰلَمِينَ  None\n",
            "2     1    3                   ٱلرَّحْمَٰنِ ٱلرَّحِيمِ  None\n",
            "3     1    4                   مَٰلِكِ يَوْمِ ٱلدِّينِ  None\n",
            "4     1    5  إِيَّاكَ نَعْبُدُ وَإِيَّاكَ نَسْتَعِينُ  None\n",
            "\n",
            "Reading table: sura_aya_juz\n",
            "   sura  aya  juz  new_juz  page  new_page\n",
            "0     1    1    1        1     1         1\n",
            "1     1    2    1        0     1         0\n",
            "2     1    3    1        0     1         0\n",
            "3     1    4    1        0     1         0\n",
            "4     1    5    1        0     1         0\n",
            "\n",
            "Reading table: juz\n",
            "   id  sura  aya  aya_count\n",
            "0   1     1    1        148\n",
            "1   2     2  142        111\n",
            "2   3     2  253        126\n",
            "3   4     3   93        131\n",
            "4   5     4   24        124\n",
            "\n",
            "Reading table: chapters\n",
            "   sura  ayas_count  first_aya_id name_arabic name_transliteration     type  \\\n",
            "0     1           7             0     الفاتحة           Al-Faatiha   Meccan   \n",
            "1     2         286             7      البقرة            Al-Baqara  Medinan   \n",
            "2     3         200           293    آل عمران         Aal-i-Imraan  Medinan   \n",
            "3     4         176           493      النساء             An-Nisaa  Medinan   \n",
            "4     5         120           669     المائدة            Al-Maaida  Medinan   \n",
            "\n",
            "   revelation_order  rukus  \n",
            "0                 5      1  \n",
            "1                87     40  \n",
            "2                89     20  \n",
            "3                92     24  \n",
            "4               112     16  \n",
            "\n",
            "Reading table: version\n",
            "   version_number\n",
            "0              25\n",
            "\n",
            "Reading table: pages\n",
            "   id  sura  aya\n",
            "0   1     1    1\n",
            "1   2     2    1\n",
            "2   3     2    6\n",
            "3   4     2   17\n",
            "4   5     2   25\n",
            "\n",
            "Reading table: quran_kemenag\n",
            "   sura  aya                                        text   md5\n",
            "0     1    1      بِسْمِ اللّٰهِ الرَّحْمٰنِ الرَّحِيْمِ  None\n",
            "1     1    2     اَلْحَمْدُ لِلّٰهِ رَبِّ الْعٰلَمِيْنَۙ  None\n",
            "2     1    3                    الرَّحْمٰنِ الرَّحِيْمِۙ  None\n",
            "3     1    4                    مٰلِكِ يَوْمِ الدِّيْنِۗ  None\n",
            "4     1    5  اِيَّاكَ نَعْبُدُ وَاِيَّاكَ نَسْتَعِيْنُۗ  None\n",
            "\n",
            "Reading table: quran_simple\n",
            "   sura  aya                                       text   md5\n",
            "0     1    1     بِسْمِ اللّٰهِ الرَّحْمٰنِ الرَّحِيْمِ  None\n",
            "1     1    2     اَلْحَمْدُ لِلّٰهِ رَبِّ الْعٰلَمِيْنَ  None\n",
            "2     1    3                    الرَّحْمٰنِ الرَّحِيْمِ  None\n",
            "3     1    4                    مٰلِكِ يَوْمِ الدِّيْنِ  None\n",
            "4     1    5  اِيَّاكَ نَعْبُدُ وَاِيَّاكَ نَسْتَعِيْنُ  None\n"
          ]
        }
      ]
    }
  ]
}